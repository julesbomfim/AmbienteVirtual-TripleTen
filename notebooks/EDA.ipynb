{
 "cells": [
  {
   "cell_type": "code",
   "execution_count": null,
   "id": "73dee763",
   "metadata": {
    "vscode": {
     "languageId": "plaintext"
    }
   },
   "outputs": [],
   "source": [
    "# Célula 1: Importações e carregamento dos dados\n",
    "import pandas as pd\n",
    "import plotly.express as px\n",
    "\n",
    "# Carrega os dados (ajuste o caminho se necessário)\n",
    "car_data = pd.read_csv('../data/vehicles_us.csv')"
   ]
  },
  {
   "cell_type": "code",
   "execution_count": null,
   "id": "1e6e430d",
   "metadata": {
    "vscode": {
     "languageId": "plaintext"
    }
   },
   "outputs": [],
   "source": [
    "# Célula 2: Histograma da quilometragem\n",
    "fig1 = px.histogram(car_data, x=\"odometer\", \n",
    "                   title=\"Distribuição de Quilometragem dos Veículos\",\n",
    "                   labels={\"odometer\": \"Quilometragem\"})\n",
    "fig1.show()\n"
   ]
  },
  {
   "cell_type": "code",
   "execution_count": null,
   "id": "92b7f0e6",
   "metadata": {
    "vscode": {
     "languageId": "plaintext"
    }
   },
   "outputs": [],
   "source": [
    "# Célula 3: Gráfico de dispersão preço x quilometragem\n",
    "fig2 = px.scatter(car_data, x=\"odometer\", y=\"price\",\n",
    "                title=\"Relação entre Quilometragem e Preço\",\n",
    "                labels={\"odometer\": \"Quilometragem\", \"price\": \"Preço (USD)\"})\n",
    "fig2.show()"
   ]
  },
  {
   "cell_type": "code",
   "execution_count": null,
   "id": "7da81de7",
   "metadata": {
    "vscode": {
     "languageId": "plaintext"
    }
   },
   "outputs": [],
   "source": []
  }
 ],
 "metadata": {
  "language_info": {
   "name": "python"
  }
 },
 "nbformat": 4,
 "nbformat_minor": 5
}
